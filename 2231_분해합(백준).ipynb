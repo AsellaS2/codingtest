{
  "nbformat": 4,
  "nbformat_minor": 0,
  "metadata": {
    "colab": {
      "provenance": [],
      "authorship_tag": "ABX9TyNhxTFNrOH/6HS/jeQcJBKY"
    },
    "kernelspec": {
      "name": "python3",
      "display_name": "Python 3"
    },
    "language_info": {
      "name": "python"
    }
  },
  "cells": [
    {
      "cell_type": "code",
      "execution_count": 9,
      "metadata": {
        "colab": {
          "base_uri": "https://localhost:8080/",
          "height": 216
        },
        "id": "4Tw0pLJZyJsg",
        "outputId": "96ca8596-1811-47e7-deae-ca1caf79a09e"
      },
      "source": [
        "import sys\n",
        "\n",
        "input = sys.stdin.readline\n",
        "\n",
        "N = int(input())\n",
        "\n",
        "\n",
        "for num in range (1, N+1) :\n",
        "    check_num = num + sum(map(int, str(num)))\n",
        "\n",
        "    if check_num == N :\n",
        "        print(num)\n",
        "        break\n",
        "    else:\n",
        "        print(0)"
      ]
    },
    {
      "cell_type": "markdown",
      "source": [
        "```\n",
        "map(int, str(num))\n",
        "```\n",
        "위 코드 부분이 숫자 형식의 num을 string으로 변환해서 이를 int로 다시 바뀌면서 n자리 숫자들이 한 자리 숫자로 변환 될 수 있었다.\n",
        "\n",
        "\n"
      ],
      "metadata": {
        "id": "mFSZl-t13my8"
      }
    }
  ]
}
